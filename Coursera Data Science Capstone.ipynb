{
 "cells": [
  {
   "cell_type": "markdown",
   "id": "4c897b0f",
   "metadata": {},
   "source": [
    "# <center> Coursera - Data Science Capstone Project </center>"
   ]
  },
  {
   "cell_type": "markdown",
   "id": "4d76581b",
   "metadata": {},
   "source": [
    "This notebook will be used to complete the Coursera Data Science Capstone Project."
   ]
  },
  {
   "cell_type": "code",
   "execution_count": 1,
   "id": "1dcab583",
   "metadata": {
    "ExecuteTime": {
     "end_time": "2021-07-30T06:54:57.855861Z",
     "start_time": "2021-07-30T06:54:55.292258Z"
    }
   },
   "outputs": [],
   "source": [
    "import pandas as pd\n",
    "import numpy as np"
   ]
  },
  {
   "cell_type": "code",
   "execution_count": 2,
   "id": "d16d19be",
   "metadata": {
    "ExecuteTime": {
     "end_time": "2021-07-30T06:55:10.735419Z",
     "start_time": "2021-07-30T06:55:10.712426Z"
    }
   },
   "outputs": [
    {
     "name": "stdout",
     "output_type": "stream",
     "text": [
      "Hello Capstone Project Course!\n"
     ]
    }
   ],
   "source": [
    "print('Hello Capstone Project Course!')"
   ]
  }
 ],
 "metadata": {
  "kernelspec": {
   "display_name": "Python 3",
   "language": "python",
   "name": "python3"
  },
  "language_info": {
   "codemirror_mode": {
    "name": "ipython",
    "version": 3
   },
   "file_extension": ".py",
   "mimetype": "text/x-python",
   "name": "python",
   "nbconvert_exporter": "python",
   "pygments_lexer": "ipython3",
   "version": "3.8.8"
  }
 },
 "nbformat": 4,
 "nbformat_minor": 5
}
